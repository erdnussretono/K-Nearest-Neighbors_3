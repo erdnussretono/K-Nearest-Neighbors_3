{
 "cells": [
  {
   "cell_type": "markdown",
   "id": "606c4026",
   "metadata": {},
   "source": [
    "# 데이터 전처리 간단 실습"
   ]
  },
  {
   "cell_type": "markdown",
   "id": "c6b26652",
   "metadata": {},
   "source": [
    "## 데이터 준비"
   ]
  },
  {
   "cell_type": "code",
   "execution_count": 1,
   "id": "89a36576",
   "metadata": {},
   "outputs": [],
   "source": [
    "# 생선의 길이(도미+빙어)\n",
    "fish_length = [25.4, 26.3, 26.5, 29.0, 29.0, 29.7, 29.7, 30.0, 30.0, 30.7, 31.0, 31.0, \n",
    "                31.5, 32.0, 32.0, 32.0, 33.0, 33.0, 33.5, 33.5, 34.0, 34.0, 34.5, 35.0, \n",
    "                35.0, 35.0, 35.0, 36.0, 36.0, 37.0, 38.5, 38.5, 39.5, 41.0, 41.0, 9.8, \n",
    "                10.5, 10.6, 11.0, 11.2, 11.3, 11.8, 11.8, 12.0, 12.2, 12.4, 13.0, 14.3, 15.0]\n",
    "\n",
    "# 생선의 무게(도미+빙어)\n",
    "fish_weight = [242.0, 290.0, 340.0, 363.0, 430.0, 450.0, 500.0, 390.0, 450.0, 500.0, 475.0, 500.0, \n",
    "                500.0, 340.0, 600.0, 600.0, 700.0, 700.0, 610.0, 650.0, 575.0, 685.0, 620.0, 680.0, \n",
    "                700.0, 725.0, 720.0, 714.0, 850.0, 1000.0, 920.0, 955.0, 925.0, 975.0, 950.0, 6.7, \n",
    "                7.5, 7.0, 9.7, 9.8, 8.7, 10.0, 9.9, 9.8, 12.2, 13.4, 12.2, 19.7, 19.9]"
   ]
  },
  {
   "cell_type": "code",
   "execution_count": 2,
   "id": "3d1baab1",
   "metadata": {},
   "outputs": [],
   "source": [
    "import numpy as np"
   ]
  },
  {
   "cell_type": "code",
   "execution_count": 3,
   "id": "885895d1",
   "metadata": {},
   "outputs": [],
   "source": [
    "# numpy를 사용해 2차원 리스트 만들기\n",
    "fish_data = np.column_stack((fish_length, fish_weight))"
   ]
  },
  {
   "cell_type": "code",
   "execution_count": 4,
   "id": "b61107c2",
   "metadata": {},
   "outputs": [],
   "source": [
    "# target data 만들기\n",
    "fish_target = np.concatenate((np.ones(35), np.zeros(14)))"
   ]
  },
  {
   "cell_type": "code",
   "execution_count": 5,
   "id": "d3d2c646",
   "metadata": {},
   "outputs": [],
   "source": [
    "from sklearn.model_selection import train_test_split"
   ]
  },
  {
   "cell_type": "code",
   "execution_count": 6,
   "id": "e1d94156",
   "metadata": {},
   "outputs": [],
   "source": [
    "# sklearn의 train_test_split 함수를 사용해 데이터 나누기\n",
    "# 나누는 비율 default 값은 25%(0.25)\n",
    "train_input, test_input, train_target, test_target = train_test_split(\n",
    "fish_data, fish_target, random_state=42)"
   ]
  },
  {
   "cell_type": "markdown",
   "id": "d864310b",
   "metadata": {},
   "source": [
    "## 모델 훈련하기"
   ]
  },
  {
   "cell_type": "code",
   "execution_count": 7,
   "id": "14054f67",
   "metadata": {},
   "outputs": [
    {
     "data": {
      "text/plain": [
       "1.0"
      ]
     },
     "execution_count": 7,
     "metadata": {},
     "output_type": "execute_result"
    }
   ],
   "source": [
    "from sklearn.neighbors import KNeighborsClassifier\n",
    "kn = KNeighborsClassifier()\n",
    "kn.fit(train_input, train_target)\n",
    "kn.score(test_input, test_target)"
   ]
  },
  {
   "cell_type": "markdown",
   "id": "372fc7e7",
   "metadata": {},
   "source": [
    "## 이상값 발견"
   ]
  },
  {
   "cell_type": "code",
   "execution_count": 8,
   "id": "c766133e",
   "metadata": {
    "scrolled": true
   },
   "outputs": [
    {
     "name": "stdout",
     "output_type": "stream",
     "text": [
      "[0.]\n"
     ]
    }
   ],
   "source": [
    "# 도미 데이터를 넣고 확인해 본 결과 빙어로 예측\n",
    "print(kn.predict([[25, 150]]))"
   ]
  },
  {
   "cell_type": "code",
   "execution_count": 9,
   "id": "62d9a8f3",
   "metadata": {},
   "outputs": [
    {
     "data": {
      "image/png": "[encoded data removed]",
      "text/plain": [
       "<Figure size 432x288 with 1 Axes>"
      ]
     },
     "metadata": {
      "needs_background": "light"
     },
     "output_type": "display_data"
    }
   ],
   "source": [
    "import matplotlib.pyplot as plt\n",
    "plt.scatter(train_input[:,0], train_input[:,1])\n",
    "plt.scatter(25, 150, marker='^')\n",
    "plt.xlabel('length')\n",
    "plt.ylabel('height')\n",
    "plt.show()"
   ]
  },
  {
   "cell_type": "markdown",
   "id": "29ade238",
   "metadata": {},
   "source": [
    "### 새로운 데이터가 도미 데이터에 가까워 보이는데\n",
    "### 빙어로 예측하고 있음"
   ]
  },
  {
   "cell_type": "code",
   "execution_count": 10,
   "id": "a38cde40",
   "metadata": {},
   "outputs": [],
   "source": [
    "# kneighbors() method를 사용해 이웃과의 거리와 index 반환\n",
    "distances,  indexes = kn.kneighbors([[25, 150]])"
   ]
  },
  {
   "cell_type": "code",
   "execution_count": 11,
   "id": "42244fd1",
   "metadata": {},
   "outputs": [
    {
     "data": {
      "image/png": "[encoded data removed]",
      "text/plain": [
       "<Figure size 432x288 with 1 Axes>"
      ]
     },
     "metadata": {
      "needs_background": "light"
     },
     "output_type": "display_data"
    }
   ],
   "source": [
    "plt.scatter(train_input[:,0], train_input[:,1])\n",
    "plt.scatter(25, 150, marker='^')\n",
    "plt.scatter(train_input[indexes,0], train_input[indexes,1], marker='D')\n",
    "plt.xlabel('length')\n",
    "plt.ylabel('weight')\n",
    "plt.show()"
   ]
  },
  {
   "cell_type": "code",
   "execution_count": 12,
   "id": "d58269e7",
   "metadata": {
    "scrolled": true
   },
   "outputs": [
    {
     "name": "stdout",
     "output_type": "stream",
     "text": [
      "[[1. 0. 0. 1. 0.]]\n"
     ]
    }
   ],
   "source": [
    "print(train_target[indexes])\n",
    "# 가까운 이웃에 도미가 2마리 빙어가 3마리로 예측\n",
    "# 1 : 도미, 0 : 빙어"
   ]
  },
  {
   "cell_type": "markdown",
   "id": "493e6add",
   "metadata": {},
   "source": [
    "#### 두 특성의 스케일이 다르기 때문에 이런 문제가 발생하고 있습니다\n",
    "#### x축과 y축의 범위를 일정한 기준으로 맞추어 주어 문제를 해결할 수 있습니다\n",
    "#### 표준점수를 사용하는 Z-점수 정규화를 사용해 해결해보겠습니다"
   ]
  },
  {
   "cell_type": "code",
   "execution_count": 13,
   "id": "101cc2ad",
   "metadata": {},
   "outputs": [],
   "source": [
    "# numpy에서 제공하는 함수를 사용\n",
    "# (36,2) 크기의 배열이기 때문에 axis=0으로 각 특성별로 계산\n",
    "mean = np.mean(train_input, axis=0)\n",
    "std = np.std(train_input, axis=0)"
   ]
  },
  {
   "cell_type": "code",
   "execution_count": 14,
   "id": "7e18d8e4",
   "metadata": {},
   "outputs": [
    {
     "name": "stdout",
     "output_type": "stream",
     "text": [
      "[ 26.175      418.08888889] [ 10.21073441 321.67847023]\n"
     ]
    }
   ],
   "source": [
    "print(mean, std)"
   ]
  },
  {
   "cell_type": "code",
   "execution_count": 15,
   "id": "c238d13d",
   "metadata": {},
   "outputs": [],
   "source": [
    "# Z-점수 정규화 식 적용\n",
    "# numpy 기능의 브로드캐스팅을 사용해 모든 행 계산\n",
    "train_scaled = (train_input - mean) / std"
   ]
  },
  {
   "cell_type": "code",
   "execution_count": 16,
   "id": "73e15f11",
   "metadata": {},
   "outputs": [
    {
     "data": {
      "image/png": "[encoded data removed]",
      "text/plain": [
       "<Figure size 432x288 with 1 Axes>"
      ]
     },
     "metadata": {
      "needs_background": "light"
     },
     "output_type": "display_data"
    }
   ],
   "source": [
    "new = ([25, 150] - mean) / std # 새로운 데이터도 정규화 진행\n",
    "plt.scatter(train_scaled[:,0], train_scaled[:,1])\n",
    "plt.scatter(new[0], new[1], marker='^')\n",
    "plt.xlabel('length')\n",
    "plt.ylabel('height')\n",
    "plt.show()"
   ]
  },
  {
   "cell_type": "markdown",
   "id": "2f54d4fe",
   "metadata": {},
   "source": [
    "### x축과 y축의 범위가 일정 범위로 바뀐 것을 확인"
   ]
  },
  {
   "cell_type": "markdown",
   "id": "7fbea09e",
   "metadata": {},
   "source": [
    "## 정규화된 데이터로 모델 훈련"
   ]
  },
  {
   "cell_type": "code",
   "execution_count": 17,
   "id": "eb15bbf0",
   "metadata": {},
   "outputs": [
    {
     "data": {
      "text/plain": [
       "KNeighborsClassifier()"
      ]
     },
     "execution_count": 17,
     "metadata": {},
     "output_type": "execute_result"
    }
   ],
   "source": [
    "kn.fit(train_scaled, train_target)"
   ]
  },
  {
   "cell_type": "code",
   "execution_count": 18,
   "id": "786df074",
   "metadata": {},
   "outputs": [],
   "source": [
    "# test data도 똑같이 정규화 진행\n",
    "test_scaled = (test_input - mean) / std"
   ]
  },
  {
   "cell_type": "code",
   "execution_count": 19,
   "id": "62e25fbf",
   "metadata": {
    "scrolled": true
   },
   "outputs": [
    {
     "data": {
      "text/plain": [
       "1.0"
      ]
     },
     "execution_count": 19,
     "metadata": {},
     "output_type": "execute_result"
    }
   ],
   "source": [
    "kn.score(test_scaled, test_target)"
   ]
  },
  {
   "cell_type": "code",
   "execution_count": 20,
   "id": "0693aead",
   "metadata": {},
   "outputs": [
    {
     "name": "stdout",
     "output_type": "stream",
     "text": [
      "[1.]\n"
     ]
    }
   ],
   "source": [
    "# 새로운 data가 도미로 예측 성공\n",
    "print(kn.predict([new]))"
   ]
  },
  {
   "cell_type": "code",
   "execution_count": 21,
   "id": "19b48833",
   "metadata": {},
   "outputs": [
    {
     "data": {
      "image/png": "[encoded data removed]",
      "text/plain": [
       "<Figure size 432x288 with 1 Axes>"
      ]
     },
     "metadata": {
      "needs_background": "light"
     },
     "output_type": "display_data"
    }
   ],
   "source": [
    "idstances, indexes = kn.kneighbors([new])\n",
    "plt.scatter(train_scaled[:,0], train_scaled[:,1])\n",
    "plt.scatter(new[0], new[1], marker='^')\n",
    "plt.scatter(train_scaled[indexes,0], train_scaled[indexes,1], marker='D')\n",
    "plt.xlabel('length')\n",
    "plt.ylabel('height')\n",
    "plt.show()"
   ]
  },
  {
   "cell_type": "markdown",
   "id": "28257f18",
   "metadata": {},
   "source": [
    "### 가장 가까운 샘플이 모두 도미로 변한것을 확일할 수 있다."
   ]
  }
 ],
 "metadata": {
  "kernelspec": {
   "display_name": "Python 3",
   "language": "python",
   "name": "python3"
  },
  "language_info": {
   "codemirror_mode": {
    "name": "ipython",
    "version": 3
   },
   "file_extension": ".py",
   "mimetype": "text/x-python",
   "name": "python",
   "nbconvert_exporter": "python",
   "pygments_lexer": "ipython3",
   "version": "3.8.10"
  }
 },
 "nbformat": 4,
 "nbformat_minor": 5
}
